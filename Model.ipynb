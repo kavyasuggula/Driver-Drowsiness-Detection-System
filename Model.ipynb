{
 "cells": [
  {
   "cell_type": "code",
   "execution_count": 1,
   "id": "3d9613b4",
   "metadata": {},
   "outputs": [
    {
     "name": "stdout",
     "output_type": "stream",
     "text": [
      "WARNING:tensorflow:From C:\\Users\\kavya\\anaconda3\\Lib\\site-packages\\keras\\src\\losses.py:2976: The name tf.losses.sparse_softmax_cross_entropy is deprecated. Please use tf.compat.v1.losses.sparse_softmax_cross_entropy instead.\n",
      "\n"
     ]
    }
   ],
   "source": [
    "import os\n",
    "from keras.preprocessing import image\n",
    "import matplotlib.pyplot as plt \n",
    "import numpy as np\n",
    "from keras.utils import to_categorical\n",
    "import random,shutil\n",
    "from keras.models import Sequential\n",
    "from keras.layers import Dropout,Conv2D,Flatten,Dense, MaxPooling2D, BatchNormalization\n",
    "from keras.models import load_model"
   ]
  },
  {
   "cell_type": "code",
   "execution_count": 2,
   "id": "e33da891",
   "metadata": {},
   "outputs": [],
   "source": [
    "def generator(dir, gen=image.ImageDataGenerator(rescale=1./255), shuffle=True,batch_size=1,target_size=(24,24),class_mode='categorical' ):\n",
    "\n",
    "    return gen.flow_from_directory(dir,batch_size=batch_size,shuffle=shuffle,color_mode='grayscale',class_mode=class_mode,target_size=target_size)"
   ]
  },
  {
   "cell_type": "code",
   "execution_count": 3,
   "id": "c87af019",
   "metadata": {},
   "outputs": [
    {
     "name": "stdout",
     "output_type": "stream",
     "text": [
      "Found 1234 images belonging to 2 classes.\n",
      "Found 218 images belonging to 2 classes.\n",
      "38 6\n"
     ]
    }
   ],
   "source": [
    "BS= 32\n",
    "TS=(24,24)\n",
    "train_batch= generator('data/train',shuffle=True, batch_size=BS,target_size=TS)\n",
    "valid_batch= generator('data/valid',shuffle=True, batch_size=BS,target_size=TS)\n",
    "SPE= len(train_batch.classes)//BS\n",
    "VS = len(valid_batch.classes)//BS\n",
    "print(SPE,VS)"
   ]
  },
  {
   "cell_type": "code",
   "execution_count": 4,
   "id": "e9eab852",
   "metadata": {},
   "outputs": [
    {
     "name": "stdout",
     "output_type": "stream",
     "text": [
      "WARNING:tensorflow:From C:\\Users\\kavya\\anaconda3\\Lib\\site-packages\\keras\\src\\backend.py:873: The name tf.get_default_graph is deprecated. Please use tf.compat.v1.get_default_graph instead.\n",
      "\n",
      "WARNING:tensorflow:From C:\\Users\\kavya\\anaconda3\\Lib\\site-packages\\keras\\src\\layers\\pooling\\max_pooling2d.py:161: The name tf.nn.max_pool is deprecated. Please use tf.nn.max_pool2d instead.\n",
      "\n"
     ]
    }
   ],
   "source": [
    "model = Sequential([\n",
    "    Conv2D(32, kernel_size=(3, 3), activation='relu', input_shape=(24,24,1)),\n",
    "    MaxPooling2D(pool_size=(1,1)),\n",
    "    Conv2D(32,(3,3),activation='relu'),\n",
    "    MaxPooling2D(pool_size=(1,1)),\n",
    "#32 convolution filters used each of size 3x3\n",
    "#again\n",
    "    Conv2D(64, (3, 3), activation='relu'),\n",
    "    MaxPooling2D(pool_size=(1,1)),\n",
    "\n",
    "#64 convolution filters used each of size 3x3\n",
    "#choose the best features via pooling\n",
    "    \n",
    "#randomly turn neurons on and off to improve convergence\n",
    "    Dropout(0.25),\n",
    "#flatten since too many dimensions, we only want a classification output\n",
    "    Flatten(),\n",
    "#fully connected to get all relevant data\n",
    "    Dense(128, activation='relu'),\n",
    "#one more dropout for convergence' sake :) \n",
    "    Dropout(0.5),\n",
    "#output a softmax to squash the matrix into output probabilities\n",
    "    Dense(2, activation='softmax')\n",
    "])"
   ]
  },
  {
   "cell_type": "code",
   "execution_count": 5,
   "id": "a733b072",
   "metadata": {
    "scrolled": true
   },
   "outputs": [
    {
     "name": "stdout",
     "output_type": "stream",
     "text": [
      "WARNING:tensorflow:From C:\\Users\\kavya\\anaconda3\\Lib\\site-packages\\keras\\src\\optimizers\\__init__.py:309: The name tf.train.Optimizer is deprecated. Please use tf.compat.v1.train.Optimizer instead.\n",
      "\n"
     ]
    },
    {
     "name": "stderr",
     "output_type": "stream",
     "text": [
      "C:\\Users\\kavya\\AppData\\Local\\Temp\\ipykernel_15688\\814966032.py:3: UserWarning: `Model.fit_generator` is deprecated and will be removed in a future version. Please use `Model.fit`, which supports generators.\n",
      "  model.fit_generator(train_batch, validation_data=valid_batch,epochs=15,steps_per_epoch=SPE ,validation_steps=VS)\n"
     ]
    },
    {
     "name": "stdout",
     "output_type": "stream",
     "text": [
      "Epoch 1/15\n",
      "WARNING:tensorflow:From C:\\Users\\kavya\\anaconda3\\Lib\\site-packages\\keras\\src\\utils\\tf_utils.py:492: The name tf.ragged.RaggedTensorValue is deprecated. Please use tf.compat.v1.ragged.RaggedTensorValue instead.\n",
      "\n",
      "WARNING:tensorflow:From C:\\Users\\kavya\\anaconda3\\Lib\\site-packages\\keras\\src\\engine\\base_layer_utils.py:384: The name tf.executing_eagerly_outside_functions is deprecated. Please use tf.compat.v1.executing_eagerly_outside_functions instead.\n",
      "\n",
      "38/38 [==============================] - 42s 1s/step - loss: 0.4491 - accuracy: 0.7970 - val_loss: 0.2442 - val_accuracy: 0.9219\n",
      "Epoch 2/15\n",
      "38/38 [==============================] - 11s 280ms/step - loss: 0.1916 - accuracy: 0.9243 - val_loss: 0.1533 - val_accuracy: 0.9375\n",
      "Epoch 3/15\n",
      "38/38 [==============================] - 12s 309ms/step - loss: 0.1343 - accuracy: 0.9476 - val_loss: 0.1496 - val_accuracy: 0.9583\n",
      "Epoch 4/15\n",
      "38/38 [==============================] - 12s 320ms/step - loss: 0.1176 - accuracy: 0.9601 - val_loss: 0.1163 - val_accuracy: 0.9583\n",
      "Epoch 5/15\n",
      "38/38 [==============================] - 12s 310ms/step - loss: 0.0952 - accuracy: 0.9626 - val_loss: 0.1260 - val_accuracy: 0.9479\n",
      "Epoch 6/15\n",
      "38/38 [==============================] - 12s 314ms/step - loss: 0.0792 - accuracy: 0.9684 - val_loss: 0.1164 - val_accuracy: 0.9427\n",
      "Epoch 7/15\n",
      "38/38 [==============================] - 17s 458ms/step - loss: 0.0728 - accuracy: 0.9709 - val_loss: 0.1533 - val_accuracy: 0.9375\n",
      "Epoch 8/15\n",
      "38/38 [==============================] - 15s 397ms/step - loss: 0.0772 - accuracy: 0.9734 - val_loss: 0.1157 - val_accuracy: 0.9531\n",
      "Epoch 9/15\n",
      "38/38 [==============================] - 14s 364ms/step - loss: 0.0395 - accuracy: 0.9825 - val_loss: 0.0876 - val_accuracy: 0.9531\n",
      "Epoch 10/15\n",
      "38/38 [==============================] - 12s 312ms/step - loss: 0.0235 - accuracy: 0.9925 - val_loss: 0.1165 - val_accuracy: 0.9479\n",
      "Epoch 11/15\n",
      "38/38 [==============================] - 11s 290ms/step - loss: 0.0229 - accuracy: 0.9925 - val_loss: 0.1267 - val_accuracy: 0.9427\n",
      "Epoch 12/15\n",
      "38/38 [==============================] - 11s 293ms/step - loss: 0.0304 - accuracy: 0.9892 - val_loss: 0.1312 - val_accuracy: 0.9531\n",
      "Epoch 13/15\n",
      "38/38 [==============================] - 11s 293ms/step - loss: 0.0174 - accuracy: 0.9925 - val_loss: 0.1387 - val_accuracy: 0.9583\n",
      "Epoch 14/15\n",
      "38/38 [==============================] - 11s 292ms/step - loss: 0.0201 - accuracy: 0.9917 - val_loss: 0.0957 - val_accuracy: 0.9635\n",
      "Epoch 15/15\n",
      "38/38 [==============================] - 11s 299ms/step - loss: 0.0108 - accuracy: 0.9958 - val_loss: 0.1351 - val_accuracy: 0.9583\n"
     ]
    },
    {
     "name": "stderr",
     "output_type": "stream",
     "text": [
      "C:\\Users\\kavya\\anaconda3\\Lib\\site-packages\\keras\\src\\engine\\training.py:3103: UserWarning: You are saving your model as an HDF5 file via `model.save()`. This file format is considered legacy. We recommend using instead the native Keras format, e.g. `model.save('my_model.keras')`.\n",
      "  saving_api.save_model(\n"
     ]
    }
   ],
   "source": [
    "model.compile(optimizer='adam',loss='categorical_crossentropy',metrics=['accuracy'])\n",
    "\n",
    "model.fit_generator(train_batch, validation_data=valid_batch,epochs=15,steps_per_epoch=SPE ,validation_steps=VS)\n",
    "\n",
    "model.save('models/cnnCat2.h5', overwrite=True)"
   ]
  }
 ],
 "metadata": {
  "kernelspec": {
   "display_name": "Python 3 (ipykernel)",
   "language": "python",
   "name": "python3"
  },
  "language_info": {
   "codemirror_mode": {
    "name": "ipython",
    "version": 3
   },
   "file_extension": ".py",
   "mimetype": "text/x-python",
   "name": "python",
   "nbconvert_exporter": "python",
   "pygments_lexer": "ipython3",
   "version": "3.11.5"
  }
 },
 "nbformat": 4,
 "nbformat_minor": 5
}
